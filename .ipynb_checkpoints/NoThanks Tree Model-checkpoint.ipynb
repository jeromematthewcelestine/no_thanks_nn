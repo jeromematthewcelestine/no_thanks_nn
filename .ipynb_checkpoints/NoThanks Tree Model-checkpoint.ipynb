{
 "cells": [
  {
   "cell_type": "code",
   "execution_count": 1,
   "id": "a1fbee7d-0f84-4e78-8ebd-493d79c247cb",
   "metadata": {},
   "outputs": [],
   "source": [
    "from no_thanks import NoThanksGame, NoThanksState"
   ]
  }
 ],
 "metadata": {
  "kernelspec": {
   "display_name": "Python 3 (ipykernel)",
   "language": "python",
   "name": "python3"
  },
  "language_info": {
   "codemirror_mode": {
    "name": "ipython",
    "version": 3
   },
   "file_extension": ".py",
   "mimetype": "text/x-python",
   "name": "python",
   "nbconvert_exporter": "python",
   "pygments_lexer": "ipython3",
   "version": "3.9.1"
  }
 },
 "nbformat": 4,
 "nbformat_minor": 5
}
