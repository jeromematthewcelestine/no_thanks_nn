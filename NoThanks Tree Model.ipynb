{
 "cells": [
  {
   "cell_type": "markdown",
   "id": "735b75e4",
   "metadata": {},
   "source": [
    "In this notebook, I show how to create a TinyNoThanks-playing agent that uses a decision tree model trained on a set of optimal play data. TinyNoThanks is a version of the card game No Thanks!, designed by Thorsten Gimmler."
   ]
  },
  {
   "cell_type": "markdown",
   "id": "31ffb6e9",
   "metadata": {},
   "source": [
    "# 1. Create training data "
   ]
  },
  {
   "cell_type": "markdown",
   "id": "2d89e99a",
   "metadata": {},
   "source": [
    "First, let's use the minimax algorithm to completely solve the 3-player TinyNoThanks game tree."
   ]
  },
  {
   "cell_type": "code",
   "execution_count": 2,
   "id": "a1fbee7d-0f84-4e78-8ebd-493d79c247cb",
   "metadata": {},
   "outputs": [
    {
     "ename": "TypeError",
     "evalue": "__init__() got an unexpected keyword argument 'min_value'",
     "output_type": "error",
     "traceback": [
      "\u001b[0;31m---------------------------------------------------------------------------\u001b[0m",
      "\u001b[0;31mTypeError\u001b[0m                                 Traceback (most recent call last)",
      "Cell \u001b[0;32mIn[2], line 4\u001b[0m\n\u001b[1;32m      1\u001b[0m \u001b[38;5;28;01mfrom\u001b[39;00m \u001b[38;5;21;01mno_thanks\u001b[39;00m \u001b[38;5;28;01mimport\u001b[39;00m NoThanksGame, NoThanksState\n\u001b[1;32m      2\u001b[0m \u001b[38;5;28;01mfrom\u001b[39;00m \u001b[38;5;21;01mminimax\u001b[39;00m \u001b[38;5;28;01mimport\u001b[39;00m Minimaxer\n\u001b[0;32m----> 4\u001b[0m game \u001b[38;5;241m=\u001b[39m \u001b[43mNoThanksGame\u001b[49m\u001b[43m(\u001b[49m\u001b[43mmin_value\u001b[49m\u001b[38;5;241;43m=\u001b[39;49m\u001b[38;5;241;43m1\u001b[39;49m\u001b[43m,\u001b[49m\u001b[43m \u001b[49m\u001b[43mmax_value\u001b[49m\u001b[38;5;241;43m=\u001b[39;49m\u001b[38;5;241;43m6\u001b[39;49m\u001b[43m,\u001b[49m\u001b[43m \u001b[49m\u001b[43mnum_players\u001b[49m\u001b[38;5;241;43m=\u001b[39;49m\u001b[38;5;241;43m3\u001b[39;49m\u001b[43m)\u001b[49m\n\u001b[1;32m      5\u001b[0m initial_state \u001b[38;5;241m=\u001b[39m game\u001b[38;5;241m.\u001b[39mget_initial_state()\n\u001b[1;32m      7\u001b[0m minimaxer \u001b[38;5;241m=\u001b[39m Minimaxer() \n",
      "\u001b[0;31mTypeError\u001b[0m: __init__() got an unexpected keyword argument 'min_value'"
     ]
    }
   ],
   "source": [
    "from no_thanks import NoThanksGame, NoThanksState\n",
    "from minimax import Minimaxer\n",
    "\n",
    "game = NoThanksGame(min_value=1, max_value=6, num_players=3)\n",
    "initial_state = game.get_initial_state()\n",
    "\n",
    "minimaxer = Minimaxer() \n",
    "values, actions = minimaxer.solve_tree(initial_state, 30)\n",
    "print('values:', values)"
   ]
  },
  {
   "cell_type": "markdown",
   "id": "7736afd4",
   "metadata": {},
   "source": [
    "Three-player TinyNoThanks has values -0.4, "
   ]
  },
  {
   "cell_type": "code",
   "execution_count": null,
   "id": "ed6c8c36",
   "metadata": {},
   "outputs": [],
   "source": []
  },
  {
   "cell_type": "code",
   "execution_count": null,
   "id": "29b7cb4b",
   "metadata": {},
   "outputs": [],
   "source": []
  },
  {
   "cell_type": "code",
   "execution_count": null,
   "id": "85871c1c",
   "metadata": {},
   "outputs": [],
   "source": []
  },
  {
   "cell_type": "markdown",
   "id": "c782e3d9",
   "metadata": {},
   "source": [
    "# 2. Fit decision tree model"
   ]
  },
  {
   "cell_type": "code",
   "execution_count": null,
   "id": "d3d067de",
   "metadata": {},
   "outputs": [],
   "source": []
  }
 ],
 "metadata": {
  "kernelspec": {
   "display_name": "Python 3 (ipykernel)",
   "language": "python",
   "name": "python3"
  },
  "language_info": {
   "codemirror_mode": {
    "name": "ipython",
    "version": 3
   },
   "file_extension": ".py",
   "mimetype": "text/x-python",
   "name": "python",
   "nbconvert_exporter": "python",
   "pygments_lexer": "ipython3",
   "version": "3.9.6"
  }
 },
 "nbformat": 4,
 "nbformat_minor": 5
}
